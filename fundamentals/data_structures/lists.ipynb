{
  "nbformat": 4,
  "nbformat_minor": 0,
  "metadata": {
    "colab": {
      "provenance": [],
      "authorship_tag": "ABX9TyODZUuTSkggxu1RloAP831C",
      "include_colab_link": true
    },
    "kernelspec": {
      "name": "python3",
      "display_name": "Python 3"
    },
    "language_info": {
      "name": "python"
    }
  },
  "cells": [
    {
      "cell_type": "markdown",
      "metadata": {
        "id": "view-in-github",
        "colab_type": "text"
      },
      "source": [
        "<a href=\"https://colab.research.google.com/github/dataeng-lab/python-for-data-engineers/blob/main/fundamentals/data_structures/lists.ipynb\" target=\"_parent\"><img src=\"https://colab.research.google.com/assets/colab-badge.svg\" alt=\"Open In Colab\"/></a>"
      ]
    },
    {
      "cell_type": "code",
      "execution_count": 4,
      "metadata": {
        "colab": {
          "base_uri": "https://localhost:8080/"
        },
        "id": "YLqxNWtQ_Ngr",
        "outputId": "4d4c45e1-b817-421a-8421-ea666263070a"
      },
      "outputs": [
        {
          "output_type": "stream",
          "name": "stdout",
          "text": [
            "[['header1', 'header2', 'header3'], ['row1_col1', 'row1_col2', 'row1_col3'], ['row2_col1', 'row2_col2', 'row2_col3']]\n"
          ]
        }
      ],
      "source": [
        "import csv\n",
        "\n",
        "# Initialize an empty list to store data\n",
        "data_rows = []\n",
        "with open(\"dummy_file.txt\", \"r\", newline='') as file:\n",
        "  reader = csv.reader(file)\n",
        "  for row in reader:\n",
        "    data_rows.append(row)\n",
        "\n",
        "# Print the list of data rows\n",
        "print(data_rows)\n"
      ]
    }
  ]
}