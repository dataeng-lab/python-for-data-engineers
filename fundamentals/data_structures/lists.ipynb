{
  "nbformat": 4,
  "nbformat_minor": 0,
  "metadata": {
    "colab": {
      "provenance": [],
      "authorship_tag": "ABX9TyP1XrJ6x/UtbMmOsCIHAOz7",
      "include_colab_link": true
    },
    "kernelspec": {
      "name": "python3",
      "display_name": "Python 3"
    },
    "language_info": {
      "name": "python"
    }
  },
  "cells": [
    {
      "cell_type": "markdown",
      "metadata": {
        "id": "view-in-github",
        "colab_type": "text"
      },
      "source": [
        "<a href=\"https://colab.research.google.com/github/dataeng-lab/python-for-data-engineers/blob/main/data-structures.ipynb\" target=\"_parent\"><img src=\"https://colab.research.google.com/assets/colab-badge.svg\" alt=\"Open In Colab\"/></a>"
      ]
    },
    {
      "cell_type": "code",
      "execution_count": 5,
      "metadata": {
        "colab": {
          "base_uri": "https://localhost:8080/"
        },
        "id": "YLqxNWtQ_Ngr",
        "outputId": "079f6563-c916-4066-a7b3-c80267e96ef0"
      },
      "outputs": [
        {
          "output_type": "stream",
          "name": "stdout",
          "text": [
            "[['col1', 'col2', 'col3'], ['1', '2', '3'], ['4', '5', '6']]\n"
          ]
        }
      ],
      "source": [
        "import csv\n",
        "\n",
        "# Initialize an empty list to store data\n",
        "data_rows = []\n",
        "with open(\"dummy_file.txt\", \"r\", newline='') as file:\n",
        "    reader = csv.reader(file)\n",
        "    for row in reader:\n",
        "        data_rows.append(row)\n",
        "\n",
        "# Print the list of data rows\n",
        "print(data_rows)"
      ]
    },
    {
      "cell_type": "markdown",
      "metadata": {
        "id": "8c633f80"
      },
      "source": [
        "### Python Data Types for Data Engineers\n",
        "\n",
        "Python offers a variety of built-in data types essential for data engineering tasks. Here are some of the most commonly used ones:\n",
        "\n",
        "*   **Numeric Types:**\n",
        "    *   `int`: Integers (e.g., 1, 100, -5)\n",
        "    *   `float`: Floating-point numbers (e.g., 1.1, 3.14, -0.5)\n",
        "    *   `complex`: Complex numbers (e.g., 1 + 2j)\n",
        "\n",
        "*   **Sequence Types:**\n",
        "    *   `str`: Strings (e.g., \"hello\", \"data\")\n",
        "    *   `list`: Ordered, mutable collections (e.g., [1, 2, 3], [\"apple\", \"banana\"])\n",
        "    *   `tuple`: Ordered, immutable collections (e.g., (1, 2, 3), (\"apple\", \"banana\"))\n",
        "    *   `range`: Represents an immutable sequence of numbers\n",
        "\n",
        "*   **Set Types:**\n",
        "    *   `set`: Unordered collections of unique elements (e.g., {1, 2, 3}, {\"apple\", \"banana\"})\n",
        "    *   `frozenset`: Immutable version of a set\n",
        "\n",
        "*   **Mapping Type:**\n",
        "    *   `dict`: Unordered collections of key-value pairs (e.g., {\"name\": \"Alice\", \"age\": 30})\n",
        "\n",
        "*   **Boolean Type:**\n",
        "    *   `bool`: Represents truth values (`True` or `False`)\n",
        "\n",
        "*   **None Type:**\n",
        "    *   `NoneType`: Represents the absence of a value (`None`)\n",
        "\n",
        "Data engineers frequently work with these types when processing, cleaning, transforming, and analyzing data. Libraries like Pandas and NumPy introduce additional data structures optimized for numerical and tabular data, building upon these fundamental Python types."
      ]
    }
  ]
}