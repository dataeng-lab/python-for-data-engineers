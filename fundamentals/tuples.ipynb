{
  "nbformat": 4,
  "nbformat_minor": 0,
  "metadata": {
    "colab": {
      "provenance": [],
      "authorship_tag": "ABX9TyNGJ//6N+p23xq+XTRVCrBy",
      "include_colab_link": true
    },
    "kernelspec": {
      "name": "python3",
      "display_name": "Python 3"
    },
    "language_info": {
      "name": "python"
    }
  },
  "cells": [
    {
      "cell_type": "markdown",
      "metadata": {
        "id": "view-in-github",
        "colab_type": "text"
      },
      "source": [
        "<a href=\"https://colab.research.google.com/github/dataeng-lab/python-for-data-engineers/blob/main/fundamentals/tuples.ipynb\" target=\"_parent\"><img src=\"https://colab.research.google.com/assets/colab-badge.svg\" alt=\"Open In Colab\"/></a>"
      ]
    },
    {
      "cell_type": "code",
      "execution_count": null,
      "metadata": {
        "id": "0IJSa1FaX-rh"
      },
      "outputs": [],
      "source": []
    },
    {
      "cell_type": "code",
      "metadata": {
        "id": "83e9bfe0"
      },
      "source": [
        "# A tuple representing a customer data record: (Customer ID, last name, first name, registration date)\n",
        "client_record = (101, \"Dupont\", \"Jean\", \"2023-10-27\")\n",
        "\n",
        "# Display the record\n",
        "print(client_record)\n",
        "\n",
        "# Access specific elements\n",
        "client_id = client_record[0]\n",
        "date_enregistrement = client_record[3]\n",
        "\n",
        "print(f\"Client ID: {client_id}\")\n",
        "print(f\"Registration Date: {date_enregistrement}\")\n",
        "\n",
        "# In a real-world scenario, a tuple could represent a row in a CSV file\n",
        "# or a row returned by a simple database query.\n",
        "# The immutability of tuples is useful for ensuring that the data in a record\n",
        "# is not accidentally modified."
      ],
      "execution_count": null,
      "outputs": []
    }
  ]
}