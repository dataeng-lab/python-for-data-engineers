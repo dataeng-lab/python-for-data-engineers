{
  "nbformat": 4,
  "nbformat_minor": 0,
  "metadata": {
    "colab": {
      "provenance": [],
      "authorship_tag": "ABX9TyNn92aj1exlru4t7dSjd8YC",
      "include_colab_link": true
    },
    "kernelspec": {
      "name": "python3",
      "display_name": "Python 3"
    },
    "language_info": {
      "name": "python"
    }
  },
  "cells": [
    {
      "cell_type": "markdown",
      "metadata": {
        "id": "view-in-github",
        "colab_type": "text"
      },
      "source": [
        "<a href=\"https://colab.research.google.com/github/dataeng-lab/python-for-data-engineers/blob/main/lists.ipynb\" target=\"_parent\"><img src=\"https://colab.research.google.com/assets/colab-badge.svg\" alt=\"Open In Colab\"/></a>"
      ]
    },
    {
      "cell_type": "code",
      "execution_count": null,
      "metadata": {
        "colab": {
          "base_uri": "https://localhost:8080/"
        },
        "id": "YLqxNWtQ_Ngr",
        "outputId": "1058a2de-bac9-48ff-fff4-517eb914f647"
      },
      "outputs": [
        {
          "output_type": "stream",
          "name": "stdout",
          "text": [
            "[['col1', 'col2', 'col3'], ['1', '2', '3'], ['4', '5', '6']]\n"
          ]
        }
      ],
      "source": [
        "import csv\n",
        "\n",
        "# 1) Write a small CSV file\n",
        "with open(\"dummy_file.csv\", \"w\", newline=\"\") as f:\n",
        "    writer = csv.writer(f)\n",
        "    writer.writerow([\"col1\", \"col2\", \"col3\"])\n",
        "    writer.writerow([1, 2, 3])\n",
        "    writer.writerow([4, 5, 6])\n",
        "\n",
        "# 2) Read the CSV file into a list of rows\n",
        "data_rows = []\n",
        "with open(\"dummy_file.csv\", \"r\", newline=\"\") as f:\n",
        "    reader = csv.reader(f)\n",
        "    for row in reader:\n",
        "        data_rows.append(row)\n",
        "\n",
        "# 3) Show the result\n",
        "print(data_rows)\n"
      ]
    }
  ]
}